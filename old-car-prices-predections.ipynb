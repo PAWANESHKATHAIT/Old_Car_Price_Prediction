{
 "cells": [
  {
   "cell_type": "code",
   "execution_count": 202,
   "metadata": {},
   "outputs": [
    {
     "data": {
      "text/html": [
       "<div>\n",
       "<style scoped>\n",
       "    .dataframe tbody tr th:only-of-type {\n",
       "        vertical-align: middle;\n",
       "    }\n",
       "\n",
       "    .dataframe tbody tr th {\n",
       "        vertical-align: top;\n",
       "    }\n",
       "\n",
       "    .dataframe thead th {\n",
       "        text-align: right;\n",
       "    }\n",
       "</style>\n",
       "<table border=\"1\" class=\"dataframe\">\n",
       "  <thead>\n",
       "    <tr style=\"text-align: right;\">\n",
       "      <th></th>\n",
       "      <th>web-scraper-order</th>\n",
       "      <th>Car Model</th>\n",
       "      <th>Month/Year</th>\n",
       "      <th>Average price</th>\n",
       "      <th>Minimum price</th>\n",
       "      <th>Maximum price</th>\n",
       "    </tr>\n",
       "  </thead>\n",
       "  <tbody>\n",
       "    <tr>\n",
       "      <th>0</th>\n",
       "      <td>1680204632-1</td>\n",
       "      <td>Skoda Octavia A8 2022</td>\n",
       "      <td>2023-03</td>\n",
       "      <td>967,000 EGP</td>\n",
       "      <td>926,000 EGP</td>\n",
       "      <td>1,017,000 EGP</td>\n",
       "    </tr>\n",
       "    <tr>\n",
       "      <th>1</th>\n",
       "      <td>1680204632-2</td>\n",
       "      <td>Skoda Octavia A8 2022</td>\n",
       "      <td>2023-02</td>\n",
       "      <td>979,000 EGP</td>\n",
       "      <td>931,000 EGP</td>\n",
       "      <td>1,045,000 EGP</td>\n",
       "    </tr>\n",
       "    <tr>\n",
       "      <th>2</th>\n",
       "      <td>1680204632-3</td>\n",
       "      <td>Skoda Octavia A8 2022</td>\n",
       "      <td>2023-01</td>\n",
       "      <td>917,000 EGP</td>\n",
       "      <td>893,000 EGP</td>\n",
       "      <td>950,000 EGP</td>\n",
       "    </tr>\n",
       "    <tr>\n",
       "      <th>3</th>\n",
       "      <td>1680204632-4</td>\n",
       "      <td>Skoda Octavia A8 2022</td>\n",
       "      <td>2022-12</td>\n",
       "      <td>881,000 EGP</td>\n",
       "      <td>793,000 EGP</td>\n",
       "      <td>950,000 EGP</td>\n",
       "    </tr>\n",
       "    <tr>\n",
       "      <th>4</th>\n",
       "      <td>1680204632-5</td>\n",
       "      <td>Skoda Octavia A8 2022</td>\n",
       "      <td>2022-11</td>\n",
       "      <td>868,000 EGP</td>\n",
       "      <td>789,000 EGP</td>\n",
       "      <td>950,000 EGP</td>\n",
       "    </tr>\n",
       "  </tbody>\n",
       "</table>\n",
       "</div>"
      ],
      "text/plain": [
       "  web-scraper-order              Car Model Month/Year Average price  \\\n",
       "0      1680204632-1  Skoda Octavia A8 2022    2023-03   967,000 EGP   \n",
       "1      1680204632-2  Skoda Octavia A8 2022    2023-02   979,000 EGP   \n",
       "2      1680204632-3  Skoda Octavia A8 2022    2023-01   917,000 EGP   \n",
       "3      1680204632-4  Skoda Octavia A8 2022    2022-12   881,000 EGP   \n",
       "4      1680204632-5  Skoda Octavia A8 2022    2022-11   868,000 EGP   \n",
       "\n",
       "  Minimum price  Maximum price  \n",
       "0   926,000 EGP  1,017,000 EGP  \n",
       "1   931,000 EGP  1,045,000 EGP  \n",
       "2   893,000 EGP    950,000 EGP  \n",
       "3   793,000 EGP    950,000 EGP  \n",
       "4   789,000 EGP    950,000 EGP  "
      ]
     },
     "execution_count": 202,
     "metadata": {},
     "output_type": "execute_result"
    }
   ],
   "source": [
    "import pandas as pd\n",
    "import numpy as np\n",
    "import matplotlib.pyplot as plt\n",
    "import seaborn as sns\n",
    "\n",
    "df = pd.read_csv(\"used_car_prices.csv\")\n",
    "df.head(5)"
   ]
  },
  {
   "cell_type": "code",
   "execution_count": 203,
   "metadata": {},
   "outputs": [
    {
     "name": "stdout",
     "output_type": "stream",
     "text": [
      "<class 'pandas.core.frame.DataFrame'>\n",
      "RangeIndex: 79090 entries, 0 to 79089\n",
      "Data columns (total 6 columns):\n",
      " #   Column             Non-Null Count  Dtype \n",
      "---  ------             --------------  ----- \n",
      " 0   web-scraper-order  79090 non-null  object\n",
      " 1   Car Model          79090 non-null  object\n",
      " 2   Month/Year         78612 non-null  object\n",
      " 3   Average price      78612 non-null  object\n",
      " 4   Minimum price      78612 non-null  object\n",
      " 5   Maximum price      78612 non-null  object\n",
      "dtypes: object(6)\n",
      "memory usage: 3.6+ MB\n"
     ]
    }
   ],
   "source": [
    "df.info()"
   ]
  },
  {
   "cell_type": "code",
   "execution_count": 204,
   "metadata": {},
   "outputs": [
    {
     "data": {
      "text/plain": [
       "web-scraper-order      0\n",
       "Car Model              0\n",
       "Month/Year           478\n",
       "Average price        478\n",
       "Minimum price        478\n",
       "Maximum price        478\n",
       "dtype: int64"
      ]
     },
     "execution_count": 204,
     "metadata": {},
     "output_type": "execute_result"
    }
   ],
   "source": [
    "df.isnull().sum()"
   ]
  },
  {
   "cell_type": "code",
   "execution_count": 205,
   "metadata": {},
   "outputs": [],
   "source": [
    "df[\"Month/Year\"] = pd.to_datetime(df[\"Month/Year\"])"
   ]
  },
  {
   "cell_type": "code",
   "execution_count": 206,
   "metadata": {},
   "outputs": [
    {
     "name": "stdout",
     "output_type": "stream",
     "text": [
      "<class 'pandas.core.frame.DataFrame'>\n",
      "RangeIndex: 79090 entries, 0 to 79089\n",
      "Data columns (total 6 columns):\n",
      " #   Column             Non-Null Count  Dtype         \n",
      "---  ------             --------------  -----         \n",
      " 0   web-scraper-order  79090 non-null  object        \n",
      " 1   Car Model          79090 non-null  object        \n",
      " 2   Month/Year         78612 non-null  datetime64[ns]\n",
      " 3   Average price      78612 non-null  object        \n",
      " 4   Minimum price      78612 non-null  object        \n",
      " 5   Maximum price      78612 non-null  object        \n",
      "dtypes: datetime64[ns](1), object(5)\n",
      "memory usage: 3.6+ MB\n"
     ]
    }
   ],
   "source": [
    "df.info()"
   ]
  },
  {
   "cell_type": "code",
   "execution_count": 207,
   "metadata": {},
   "outputs": [],
   "source": [
    "def clean_price(price):\n",
    "    if isinstance(price, str):\n",
    "        return float(price.replace(\",\", \"\").replace(\" EGP\", \"\"))\n",
    "    return price"
   ]
  },
  {
   "cell_type": "code",
   "execution_count": 208,
   "metadata": {},
   "outputs": [],
   "source": [
    "df[\"Average price\"] = df[\"Average price\"].apply(clean_price).astype(float)\n",
    "df[\"Minimum price\"] = df[\"Minimum price\"].apply(clean_price).astype(float)\n",
    "df[\"Maximum price\"] = df[\"Maximum price\"].apply(clean_price).astype(float)"
   ]
  },
  {
   "cell_type": "code",
   "execution_count": 209,
   "metadata": {},
   "outputs": [
    {
     "data": {
      "text/html": [
       "<div>\n",
       "<style scoped>\n",
       "    .dataframe tbody tr th:only-of-type {\n",
       "        vertical-align: middle;\n",
       "    }\n",
       "\n",
       "    .dataframe tbody tr th {\n",
       "        vertical-align: top;\n",
       "    }\n",
       "\n",
       "    .dataframe thead th {\n",
       "        text-align: right;\n",
       "    }\n",
       "</style>\n",
       "<table border=\"1\" class=\"dataframe\">\n",
       "  <thead>\n",
       "    <tr style=\"text-align: right;\">\n",
       "      <th></th>\n",
       "      <th>web-scraper-order</th>\n",
       "      <th>Car Model</th>\n",
       "      <th>Month/Year</th>\n",
       "      <th>Average price</th>\n",
       "      <th>Minimum price</th>\n",
       "      <th>Maximum price</th>\n",
       "    </tr>\n",
       "  </thead>\n",
       "  <tbody>\n",
       "    <tr>\n",
       "      <th>0</th>\n",
       "      <td>1680204632-1</td>\n",
       "      <td>Skoda Octavia A8 2022</td>\n",
       "      <td>2023-03-01</td>\n",
       "      <td>967000.0</td>\n",
       "      <td>926000.0</td>\n",
       "      <td>1017000.0</td>\n",
       "    </tr>\n",
       "    <tr>\n",
       "      <th>1</th>\n",
       "      <td>1680204632-2</td>\n",
       "      <td>Skoda Octavia A8 2022</td>\n",
       "      <td>2023-02-01</td>\n",
       "      <td>979000.0</td>\n",
       "      <td>931000.0</td>\n",
       "      <td>1045000.0</td>\n",
       "    </tr>\n",
       "    <tr>\n",
       "      <th>2</th>\n",
       "      <td>1680204632-3</td>\n",
       "      <td>Skoda Octavia A8 2022</td>\n",
       "      <td>2023-01-01</td>\n",
       "      <td>917000.0</td>\n",
       "      <td>893000.0</td>\n",
       "      <td>950000.0</td>\n",
       "    </tr>\n",
       "    <tr>\n",
       "      <th>3</th>\n",
       "      <td>1680204632-4</td>\n",
       "      <td>Skoda Octavia A8 2022</td>\n",
       "      <td>2022-12-01</td>\n",
       "      <td>881000.0</td>\n",
       "      <td>793000.0</td>\n",
       "      <td>950000.0</td>\n",
       "    </tr>\n",
       "    <tr>\n",
       "      <th>4</th>\n",
       "      <td>1680204632-5</td>\n",
       "      <td>Skoda Octavia A8 2022</td>\n",
       "      <td>2022-11-01</td>\n",
       "      <td>868000.0</td>\n",
       "      <td>789000.0</td>\n",
       "      <td>950000.0</td>\n",
       "    </tr>\n",
       "    <tr>\n",
       "      <th>...</th>\n",
       "      <td>...</td>\n",
       "      <td>...</td>\n",
       "      <td>...</td>\n",
       "      <td>...</td>\n",
       "      <td>...</td>\n",
       "      <td>...</td>\n",
       "    </tr>\n",
       "    <tr>\n",
       "      <th>79085</th>\n",
       "      <td>1680204632-79086</td>\n",
       "      <td>Lada 2107 1991</td>\n",
       "      <td>2018-08-01</td>\n",
       "      <td>30000.0</td>\n",
       "      <td>26000.0</td>\n",
       "      <td>33000.0</td>\n",
       "    </tr>\n",
       "    <tr>\n",
       "      <th>79086</th>\n",
       "      <td>1680204632-79087</td>\n",
       "      <td>Lada 2107 1991</td>\n",
       "      <td>2018-07-01</td>\n",
       "      <td>33000.0</td>\n",
       "      <td>32000.0</td>\n",
       "      <td>35000.0</td>\n",
       "    </tr>\n",
       "    <tr>\n",
       "      <th>79087</th>\n",
       "      <td>1680204632-79088</td>\n",
       "      <td>Lada 2107 1991</td>\n",
       "      <td>2018-01-01</td>\n",
       "      <td>28000.0</td>\n",
       "      <td>25000.0</td>\n",
       "      <td>30000.0</td>\n",
       "    </tr>\n",
       "    <tr>\n",
       "      <th>79088</th>\n",
       "      <td>1680204632-79089</td>\n",
       "      <td>Lada 2107 1991</td>\n",
       "      <td>2017-12-01</td>\n",
       "      <td>27000.0</td>\n",
       "      <td>25000.0</td>\n",
       "      <td>28000.0</td>\n",
       "    </tr>\n",
       "    <tr>\n",
       "      <th>79089</th>\n",
       "      <td>1680204632-79090</td>\n",
       "      <td>Lada 2107 1991</td>\n",
       "      <td>2016-03-01</td>\n",
       "      <td>24000.0</td>\n",
       "      <td>23000.0</td>\n",
       "      <td>26000.0</td>\n",
       "    </tr>\n",
       "  </tbody>\n",
       "</table>\n",
       "<p>79090 rows × 6 columns</p>\n",
       "</div>"
      ],
      "text/plain": [
       "      web-scraper-order              Car Model Month/Year  Average price  \\\n",
       "0          1680204632-1  Skoda Octavia A8 2022 2023-03-01       967000.0   \n",
       "1          1680204632-2  Skoda Octavia A8 2022 2023-02-01       979000.0   \n",
       "2          1680204632-3  Skoda Octavia A8 2022 2023-01-01       917000.0   \n",
       "3          1680204632-4  Skoda Octavia A8 2022 2022-12-01       881000.0   \n",
       "4          1680204632-5  Skoda Octavia A8 2022 2022-11-01       868000.0   \n",
       "...                 ...                    ...        ...            ...   \n",
       "79085  1680204632-79086         Lada 2107 1991 2018-08-01        30000.0   \n",
       "79086  1680204632-79087         Lada 2107 1991 2018-07-01        33000.0   \n",
       "79087  1680204632-79088         Lada 2107 1991 2018-01-01        28000.0   \n",
       "79088  1680204632-79089         Lada 2107 1991 2017-12-01        27000.0   \n",
       "79089  1680204632-79090         Lada 2107 1991 2016-03-01        24000.0   \n",
       "\n",
       "       Minimum price  Maximum price  \n",
       "0           926000.0      1017000.0  \n",
       "1           931000.0      1045000.0  \n",
       "2           893000.0       950000.0  \n",
       "3           793000.0       950000.0  \n",
       "4           789000.0       950000.0  \n",
       "...              ...            ...  \n",
       "79085        26000.0        33000.0  \n",
       "79086        32000.0        35000.0  \n",
       "79087        25000.0        30000.0  \n",
       "79088        25000.0        28000.0  \n",
       "79089        23000.0        26000.0  \n",
       "\n",
       "[79090 rows x 6 columns]"
      ]
     },
     "execution_count": 209,
     "metadata": {},
     "output_type": "execute_result"
    }
   ],
   "source": [
    "df"
   ]
  },
  {
   "cell_type": "code",
   "execution_count": 210,
   "metadata": {},
   "outputs": [],
   "source": [
    "df.drop(columns = [\"web-scraper-order\"], inplace = True)"
   ]
  },
  {
   "cell_type": "code",
   "execution_count": 211,
   "metadata": {},
   "outputs": [
    {
     "data": {
      "text/html": [
       "<div>\n",
       "<style scoped>\n",
       "    .dataframe tbody tr th:only-of-type {\n",
       "        vertical-align: middle;\n",
       "    }\n",
       "\n",
       "    .dataframe tbody tr th {\n",
       "        vertical-align: top;\n",
       "    }\n",
       "\n",
       "    .dataframe thead th {\n",
       "        text-align: right;\n",
       "    }\n",
       "</style>\n",
       "<table border=\"1\" class=\"dataframe\">\n",
       "  <thead>\n",
       "    <tr style=\"text-align: right;\">\n",
       "      <th></th>\n",
       "      <th>Car Model</th>\n",
       "      <th>Month/Year</th>\n",
       "      <th>Average price</th>\n",
       "      <th>Minimum price</th>\n",
       "      <th>Maximum price</th>\n",
       "    </tr>\n",
       "  </thead>\n",
       "  <tbody>\n",
       "    <tr>\n",
       "      <th>0</th>\n",
       "      <td>Skoda Octavia A8 2022</td>\n",
       "      <td>2023-03-01</td>\n",
       "      <td>967000.0</td>\n",
       "      <td>926000.0</td>\n",
       "      <td>1017000.0</td>\n",
       "    </tr>\n",
       "    <tr>\n",
       "      <th>1</th>\n",
       "      <td>Skoda Octavia A8 2022</td>\n",
       "      <td>2023-02-01</td>\n",
       "      <td>979000.0</td>\n",
       "      <td>931000.0</td>\n",
       "      <td>1045000.0</td>\n",
       "    </tr>\n",
       "  </tbody>\n",
       "</table>\n",
       "</div>"
      ],
      "text/plain": [
       "               Car Model Month/Year  Average price  Minimum price  \\\n",
       "0  Skoda Octavia A8 2022 2023-03-01       967000.0       926000.0   \n",
       "1  Skoda Octavia A8 2022 2023-02-01       979000.0       931000.0   \n",
       "\n",
       "   Maximum price  \n",
       "0      1017000.0  \n",
       "1      1045000.0  "
      ]
     },
     "execution_count": 211,
     "metadata": {},
     "output_type": "execute_result"
    }
   ],
   "source": [
    "df.head(2)"
   ]
  },
  {
   "cell_type": "code",
   "execution_count": 212,
   "metadata": {},
   "outputs": [],
   "source": [
    "df.dropna(inplace = True)"
   ]
  },
  {
   "cell_type": "code",
   "execution_count": 213,
   "metadata": {},
   "outputs": [
    {
     "data": {
      "text/plain": [
       "Car Model        0\n",
       "Month/Year       0\n",
       "Average price    0\n",
       "Minimum price    0\n",
       "Maximum price    0\n",
       "dtype: int64"
      ]
     },
     "execution_count": 213,
     "metadata": {},
     "output_type": "execute_result"
    }
   ],
   "source": [
    "df.isnull().sum()"
   ]
  },
  {
   "cell_type": "markdown",
   "metadata": {},
   "source": [
    "### Encoding portion begin"
   ]
  },
  {
   "cell_type": "code",
   "execution_count": 214,
   "metadata": {},
   "outputs": [
    {
     "name": "stdout",
     "output_type": "stream",
     "text": [
      "<class 'pandas.core.frame.DataFrame'>\n",
      "Index: 78612 entries, 0 to 79089\n",
      "Data columns (total 5 columns):\n",
      " #   Column         Non-Null Count  Dtype         \n",
      "---  ------         --------------  -----         \n",
      " 0   Car Model      78612 non-null  object        \n",
      " 1   Month/Year     78612 non-null  datetime64[ns]\n",
      " 2   Average price  78612 non-null  float64       \n",
      " 3   Minimum price  78612 non-null  float64       \n",
      " 4   Maximum price  78612 non-null  float64       \n",
      "dtypes: datetime64[ns](1), float64(3), object(1)\n",
      "memory usage: 3.6+ MB\n"
     ]
    }
   ],
   "source": [
    "df.info()"
   ]
  },
  {
   "cell_type": "code",
   "execution_count": 215,
   "metadata": {},
   "outputs": [],
   "source": [
    "# Extract the year and create a new \"Model Year\" column\n",
    "df[\"Model Year\"] = df[\"Car Model\"].str.extract(r'(\\d{4})')\n",
    "\n",
    "# Remove the year from the \"Car Model\" column\n",
    "df[\"Car Model\"] = df[\"Car Model\"].str.replace(r'\\s*\\d{4}$', '', regex=True)"
   ]
  },
  {
   "cell_type": "code",
   "execution_count": 216,
   "metadata": {},
   "outputs": [],
   "source": [
    "df[\"Model Year\"] = df[\"Model Year\"].astype(int)\n",
    "# Convert \"Model Year\" to datetime, forcing only the year part\n",
    "df[\"Model Year\"] = pd.to_datetime(df[\"Model Year\"], format='%Y', errors='coerce')\n",
    "\n",
    "# Handle potential NaT values\n",
    "df[\"Model Year\"] = df[\"Model Year\"].dt.year"
   ]
  },
  {
   "cell_type": "code",
   "execution_count": 217,
   "metadata": {},
   "outputs": [
    {
     "data": {
      "text/html": [
       "<div>\n",
       "<style scoped>\n",
       "    .dataframe tbody tr th:only-of-type {\n",
       "        vertical-align: middle;\n",
       "    }\n",
       "\n",
       "    .dataframe tbody tr th {\n",
       "        vertical-align: top;\n",
       "    }\n",
       "\n",
       "    .dataframe thead th {\n",
       "        text-align: right;\n",
       "    }\n",
       "</style>\n",
       "<table border=\"1\" class=\"dataframe\">\n",
       "  <thead>\n",
       "    <tr style=\"text-align: right;\">\n",
       "      <th></th>\n",
       "      <th>Car Model</th>\n",
       "      <th>Month/Year</th>\n",
       "      <th>Average price</th>\n",
       "      <th>Minimum price</th>\n",
       "      <th>Maximum price</th>\n",
       "      <th>Model Year</th>\n",
       "    </tr>\n",
       "  </thead>\n",
       "  <tbody>\n",
       "    <tr>\n",
       "      <th>0</th>\n",
       "      <td>Skoda Octavia A8</td>\n",
       "      <td>2023-03-01</td>\n",
       "      <td>967000.0</td>\n",
       "      <td>926000.0</td>\n",
       "      <td>1017000.0</td>\n",
       "      <td>2022.0</td>\n",
       "    </tr>\n",
       "    <tr>\n",
       "      <th>1</th>\n",
       "      <td>Skoda Octavia A8</td>\n",
       "      <td>2023-02-01</td>\n",
       "      <td>979000.0</td>\n",
       "      <td>931000.0</td>\n",
       "      <td>1045000.0</td>\n",
       "      <td>2022.0</td>\n",
       "    </tr>\n",
       "    <tr>\n",
       "      <th>2</th>\n",
       "      <td>Skoda Octavia A8</td>\n",
       "      <td>2023-01-01</td>\n",
       "      <td>917000.0</td>\n",
       "      <td>893000.0</td>\n",
       "      <td>950000.0</td>\n",
       "      <td>2022.0</td>\n",
       "    </tr>\n",
       "    <tr>\n",
       "      <th>3</th>\n",
       "      <td>Skoda Octavia A8</td>\n",
       "      <td>2022-12-01</td>\n",
       "      <td>881000.0</td>\n",
       "      <td>793000.0</td>\n",
       "      <td>950000.0</td>\n",
       "      <td>2022.0</td>\n",
       "    </tr>\n",
       "    <tr>\n",
       "      <th>4</th>\n",
       "      <td>Skoda Octavia A8</td>\n",
       "      <td>2022-11-01</td>\n",
       "      <td>868000.0</td>\n",
       "      <td>789000.0</td>\n",
       "      <td>950000.0</td>\n",
       "      <td>2022.0</td>\n",
       "    </tr>\n",
       "    <tr>\n",
       "      <th>...</th>\n",
       "      <td>...</td>\n",
       "      <td>...</td>\n",
       "      <td>...</td>\n",
       "      <td>...</td>\n",
       "      <td>...</td>\n",
       "      <td>...</td>\n",
       "    </tr>\n",
       "    <tr>\n",
       "      <th>79085</th>\n",
       "      <td>Lada 2107</td>\n",
       "      <td>2018-08-01</td>\n",
       "      <td>30000.0</td>\n",
       "      <td>26000.0</td>\n",
       "      <td>33000.0</td>\n",
       "      <td>2107.0</td>\n",
       "    </tr>\n",
       "    <tr>\n",
       "      <th>79086</th>\n",
       "      <td>Lada 2107</td>\n",
       "      <td>2018-07-01</td>\n",
       "      <td>33000.0</td>\n",
       "      <td>32000.0</td>\n",
       "      <td>35000.0</td>\n",
       "      <td>2107.0</td>\n",
       "    </tr>\n",
       "    <tr>\n",
       "      <th>79087</th>\n",
       "      <td>Lada 2107</td>\n",
       "      <td>2018-01-01</td>\n",
       "      <td>28000.0</td>\n",
       "      <td>25000.0</td>\n",
       "      <td>30000.0</td>\n",
       "      <td>2107.0</td>\n",
       "    </tr>\n",
       "    <tr>\n",
       "      <th>79088</th>\n",
       "      <td>Lada 2107</td>\n",
       "      <td>2017-12-01</td>\n",
       "      <td>27000.0</td>\n",
       "      <td>25000.0</td>\n",
       "      <td>28000.0</td>\n",
       "      <td>2107.0</td>\n",
       "    </tr>\n",
       "    <tr>\n",
       "      <th>79089</th>\n",
       "      <td>Lada 2107</td>\n",
       "      <td>2016-03-01</td>\n",
       "      <td>24000.0</td>\n",
       "      <td>23000.0</td>\n",
       "      <td>26000.0</td>\n",
       "      <td>2107.0</td>\n",
       "    </tr>\n",
       "  </tbody>\n",
       "</table>\n",
       "<p>78612 rows × 6 columns</p>\n",
       "</div>"
      ],
      "text/plain": [
       "              Car Model Month/Year  Average price  Minimum price  \\\n",
       "0      Skoda Octavia A8 2023-03-01       967000.0       926000.0   \n",
       "1      Skoda Octavia A8 2023-02-01       979000.0       931000.0   \n",
       "2      Skoda Octavia A8 2023-01-01       917000.0       893000.0   \n",
       "3      Skoda Octavia A8 2022-12-01       881000.0       793000.0   \n",
       "4      Skoda Octavia A8 2022-11-01       868000.0       789000.0   \n",
       "...                 ...        ...            ...            ...   \n",
       "79085         Lada 2107 2018-08-01        30000.0        26000.0   \n",
       "79086         Lada 2107 2018-07-01        33000.0        32000.0   \n",
       "79087         Lada 2107 2018-01-01        28000.0        25000.0   \n",
       "79088         Lada 2107 2017-12-01        27000.0        25000.0   \n",
       "79089         Lada 2107 2016-03-01        24000.0        23000.0   \n",
       "\n",
       "       Maximum price  Model Year  \n",
       "0          1017000.0      2022.0  \n",
       "1          1045000.0      2022.0  \n",
       "2           950000.0      2022.0  \n",
       "3           950000.0      2022.0  \n",
       "4           950000.0      2022.0  \n",
       "...              ...         ...  \n",
       "79085        33000.0      2107.0  \n",
       "79086        35000.0      2107.0  \n",
       "79087        30000.0      2107.0  \n",
       "79088        28000.0      2107.0  \n",
       "79089        26000.0      2107.0  \n",
       "\n",
       "[78612 rows x 6 columns]"
      ]
     },
     "execution_count": 217,
     "metadata": {},
     "output_type": "execute_result"
    }
   ],
   "source": [
    "orginal_df = pd.DataFrame(df)\n",
    "orginal_df"
   ]
  },
  {
   "cell_type": "markdown",
   "metadata": {},
   "source": [
    "## Encoding part"
   ]
  },
  {
   "cell_type": "code",
   "execution_count": 218,
   "metadata": {},
   "outputs": [],
   "source": [
    "from sklearn.preprocessing import LabelEncoder"
   ]
  },
  {
   "cell_type": "code",
   "execution_count": 219,
   "metadata": {},
   "outputs": [],
   "source": [
    "Car_Model_En = LabelEncoder()\n",
    "df[\"Car Model\"] = Car_Model_En.fit_transform(df[\"Car Model\"])"
   ]
  },
  {
   "cell_type": "code",
   "execution_count": 220,
   "metadata": {},
   "outputs": [
    {
     "data": {
      "text/html": [
       "<div>\n",
       "<style scoped>\n",
       "    .dataframe tbody tr th:only-of-type {\n",
       "        vertical-align: middle;\n",
       "    }\n",
       "\n",
       "    .dataframe tbody tr th {\n",
       "        vertical-align: top;\n",
       "    }\n",
       "\n",
       "    .dataframe thead th {\n",
       "        text-align: right;\n",
       "    }\n",
       "</style>\n",
       "<table border=\"1\" class=\"dataframe\">\n",
       "  <thead>\n",
       "    <tr style=\"text-align: right;\">\n",
       "      <th></th>\n",
       "      <th>Car Model</th>\n",
       "      <th>Month/Year</th>\n",
       "      <th>Average price</th>\n",
       "      <th>Minimum price</th>\n",
       "      <th>Maximum price</th>\n",
       "      <th>Model Year</th>\n",
       "    </tr>\n",
       "  </thead>\n",
       "  <tbody>\n",
       "    <tr>\n",
       "      <th>0</th>\n",
       "      <td>339</td>\n",
       "      <td>2023-03-01</td>\n",
       "      <td>967000.0</td>\n",
       "      <td>926000.0</td>\n",
       "      <td>1017000.0</td>\n",
       "      <td>2022.0</td>\n",
       "    </tr>\n",
       "    <tr>\n",
       "      <th>1</th>\n",
       "      <td>339</td>\n",
       "      <td>2023-02-01</td>\n",
       "      <td>979000.0</td>\n",
       "      <td>931000.0</td>\n",
       "      <td>1045000.0</td>\n",
       "      <td>2022.0</td>\n",
       "    </tr>\n",
       "    <tr>\n",
       "      <th>2</th>\n",
       "      <td>339</td>\n",
       "      <td>2023-01-01</td>\n",
       "      <td>917000.0</td>\n",
       "      <td>893000.0</td>\n",
       "      <td>950000.0</td>\n",
       "      <td>2022.0</td>\n",
       "    </tr>\n",
       "    <tr>\n",
       "      <th>3</th>\n",
       "      <td>339</td>\n",
       "      <td>2022-12-01</td>\n",
       "      <td>881000.0</td>\n",
       "      <td>793000.0</td>\n",
       "      <td>950000.0</td>\n",
       "      <td>2022.0</td>\n",
       "    </tr>\n",
       "    <tr>\n",
       "      <th>4</th>\n",
       "      <td>339</td>\n",
       "      <td>2022-11-01</td>\n",
       "      <td>868000.0</td>\n",
       "      <td>789000.0</td>\n",
       "      <td>950000.0</td>\n",
       "      <td>2022.0</td>\n",
       "    </tr>\n",
       "    <tr>\n",
       "      <th>...</th>\n",
       "      <td>...</td>\n",
       "      <td>...</td>\n",
       "      <td>...</td>\n",
       "      <td>...</td>\n",
       "      <td>...</td>\n",
       "      <td>...</td>\n",
       "    </tr>\n",
       "    <tr>\n",
       "      <th>79085</th>\n",
       "      <td>206</td>\n",
       "      <td>2018-08-01</td>\n",
       "      <td>30000.0</td>\n",
       "      <td>26000.0</td>\n",
       "      <td>33000.0</td>\n",
       "      <td>2107.0</td>\n",
       "    </tr>\n",
       "    <tr>\n",
       "      <th>79086</th>\n",
       "      <td>206</td>\n",
       "      <td>2018-07-01</td>\n",
       "      <td>33000.0</td>\n",
       "      <td>32000.0</td>\n",
       "      <td>35000.0</td>\n",
       "      <td>2107.0</td>\n",
       "    </tr>\n",
       "    <tr>\n",
       "      <th>79087</th>\n",
       "      <td>206</td>\n",
       "      <td>2018-01-01</td>\n",
       "      <td>28000.0</td>\n",
       "      <td>25000.0</td>\n",
       "      <td>30000.0</td>\n",
       "      <td>2107.0</td>\n",
       "    </tr>\n",
       "    <tr>\n",
       "      <th>79088</th>\n",
       "      <td>206</td>\n",
       "      <td>2017-12-01</td>\n",
       "      <td>27000.0</td>\n",
       "      <td>25000.0</td>\n",
       "      <td>28000.0</td>\n",
       "      <td>2107.0</td>\n",
       "    </tr>\n",
       "    <tr>\n",
       "      <th>79089</th>\n",
       "      <td>206</td>\n",
       "      <td>2016-03-01</td>\n",
       "      <td>24000.0</td>\n",
       "      <td>23000.0</td>\n",
       "      <td>26000.0</td>\n",
       "      <td>2107.0</td>\n",
       "    </tr>\n",
       "  </tbody>\n",
       "</table>\n",
       "<p>78612 rows × 6 columns</p>\n",
       "</div>"
      ],
      "text/plain": [
       "       Car Model Month/Year  Average price  Minimum price  Maximum price  \\\n",
       "0            339 2023-03-01       967000.0       926000.0      1017000.0   \n",
       "1            339 2023-02-01       979000.0       931000.0      1045000.0   \n",
       "2            339 2023-01-01       917000.0       893000.0       950000.0   \n",
       "3            339 2022-12-01       881000.0       793000.0       950000.0   \n",
       "4            339 2022-11-01       868000.0       789000.0       950000.0   \n",
       "...          ...        ...            ...            ...            ...   \n",
       "79085        206 2018-08-01        30000.0        26000.0        33000.0   \n",
       "79086        206 2018-07-01        33000.0        32000.0        35000.0   \n",
       "79087        206 2018-01-01        28000.0        25000.0        30000.0   \n",
       "79088        206 2017-12-01        27000.0        25000.0        28000.0   \n",
       "79089        206 2016-03-01        24000.0        23000.0        26000.0   \n",
       "\n",
       "       Model Year  \n",
       "0          2022.0  \n",
       "1          2022.0  \n",
       "2          2022.0  \n",
       "3          2022.0  \n",
       "4          2022.0  \n",
       "...           ...  \n",
       "79085      2107.0  \n",
       "79086      2107.0  \n",
       "79087      2107.0  \n",
       "79088      2107.0  \n",
       "79089      2107.0  \n",
       "\n",
       "[78612 rows x 6 columns]"
      ]
     },
     "execution_count": 220,
     "metadata": {},
     "output_type": "execute_result"
    }
   ],
   "source": [
    "df"
   ]
  },
  {
   "cell_type": "code",
   "execution_count": 221,
   "metadata": {},
   "outputs": [],
   "source": [
    "df[\"Month/Year\"] = df[\"Month/Year\"].dt.strftime('%Y%m').astype(int)"
   ]
  },
  {
   "cell_type": "code",
   "execution_count": 222,
   "metadata": {},
   "outputs": [],
   "source": [
    "df1 = df"
   ]
  },
  {
   "cell_type": "code",
   "execution_count": 223,
   "metadata": {},
   "outputs": [
    {
     "data": {
      "image/png": "[encoded data removed]",
      "text/plain": [
       "<Figure size 640x480 with 2 Axes>"
      ]
     },
     "metadata": {},
     "output_type": "display_data"
    }
   ],
   "source": [
    "sns.heatmap(data=df1.corr(), annot = True)\n",
    "plt.show()"
   ]
  },
  {
   "cell_type": "code",
   "execution_count": 224,
   "metadata": {},
   "outputs": [
    {
     "data": {
      "text/html": [
       "<div>\n",
       "<style scoped>\n",
       "    .dataframe tbody tr th:only-of-type {\n",
       "        vertical-align: middle;\n",
       "    }\n",
       "\n",
       "    .dataframe tbody tr th {\n",
       "        vertical-align: top;\n",
       "    }\n",
       "\n",
       "    .dataframe thead th {\n",
       "        text-align: right;\n",
       "    }\n",
       "</style>\n",
       "<table border=\"1\" class=\"dataframe\">\n",
       "  <thead>\n",
       "    <tr style=\"text-align: right;\">\n",
       "      <th></th>\n",
       "      <th>Car Model</th>\n",
       "      <th>Month/Year</th>\n",
       "      <th>Average price</th>\n",
       "      <th>Minimum price</th>\n",
       "    </tr>\n",
       "  </thead>\n",
       "  <tbody>\n",
       "    <tr>\n",
       "      <th>0</th>\n",
       "      <td>339</td>\n",
       "      <td>202303</td>\n",
       "      <td>967000.0</td>\n",
       "      <td>926000.0</td>\n",
       "    </tr>\n",
       "    <tr>\n",
       "      <th>1</th>\n",
       "      <td>339</td>\n",
       "      <td>202302</td>\n",
       "      <td>979000.0</td>\n",
       "      <td>931000.0</td>\n",
       "    </tr>\n",
       "    <tr>\n",
       "      <th>2</th>\n",
       "      <td>339</td>\n",
       "      <td>202301</td>\n",
       "      <td>917000.0</td>\n",
       "      <td>893000.0</td>\n",
       "    </tr>\n",
       "    <tr>\n",
       "      <th>3</th>\n",
       "      <td>339</td>\n",
       "      <td>202212</td>\n",
       "      <td>881000.0</td>\n",
       "      <td>793000.0</td>\n",
       "    </tr>\n",
       "    <tr>\n",
       "      <th>4</th>\n",
       "      <td>339</td>\n",
       "      <td>202211</td>\n",
       "      <td>868000.0</td>\n",
       "      <td>789000.0</td>\n",
       "    </tr>\n",
       "    <tr>\n",
       "      <th>...</th>\n",
       "      <td>...</td>\n",
       "      <td>...</td>\n",
       "      <td>...</td>\n",
       "      <td>...</td>\n",
       "    </tr>\n",
       "    <tr>\n",
       "      <th>79085</th>\n",
       "      <td>206</td>\n",
       "      <td>201808</td>\n",
       "      <td>30000.0</td>\n",
       "      <td>26000.0</td>\n",
       "    </tr>\n",
       "    <tr>\n",
       "      <th>79086</th>\n",
       "      <td>206</td>\n",
       "      <td>201807</td>\n",
       "      <td>33000.0</td>\n",
       "      <td>32000.0</td>\n",
       "    </tr>\n",
       "    <tr>\n",
       "      <th>79087</th>\n",
       "      <td>206</td>\n",
       "      <td>201801</td>\n",
       "      <td>28000.0</td>\n",
       "      <td>25000.0</td>\n",
       "    </tr>\n",
       "    <tr>\n",
       "      <th>79088</th>\n",
       "      <td>206</td>\n",
       "      <td>201712</td>\n",
       "      <td>27000.0</td>\n",
       "      <td>25000.0</td>\n",
       "    </tr>\n",
       "    <tr>\n",
       "      <th>79089</th>\n",
       "      <td>206</td>\n",
       "      <td>201603</td>\n",
       "      <td>24000.0</td>\n",
       "      <td>23000.0</td>\n",
       "    </tr>\n",
       "  </tbody>\n",
       "</table>\n",
       "<p>78612 rows × 4 columns</p>\n",
       "</div>"
      ],
      "text/plain": [
       "       Car Model  Month/Year  Average price  Minimum price\n",
       "0            339      202303       967000.0       926000.0\n",
       "1            339      202302       979000.0       931000.0\n",
       "2            339      202301       917000.0       893000.0\n",
       "3            339      202212       881000.0       793000.0\n",
       "4            339      202211       868000.0       789000.0\n",
       "...          ...         ...            ...            ...\n",
       "79085        206      201808        30000.0        26000.0\n",
       "79086        206      201807        33000.0        32000.0\n",
       "79087        206      201801        28000.0        25000.0\n",
       "79088        206      201712        27000.0        25000.0\n",
       "79089        206      201603        24000.0        23000.0\n",
       "\n",
       "[78612 rows x 4 columns]"
      ]
     },
     "execution_count": 224,
     "metadata": {},
     "output_type": "execute_result"
    }
   ],
   "source": [
    "#Splite dataset into target and input\n",
    "input_data = df1.iloc[:,:-2]\n",
    "output_data = df1[\"Maximum price\"]\n",
    "input_data"
   ]
  },
  {
   "cell_type": "code",
   "execution_count": 225,
   "metadata": {},
   "outputs": [],
   "source": [
    "#Now we have to balance the data through scaler\n",
    "from sklearn.preprocessing import StandardScaler"
   ]
  },
  {
   "cell_type": "code",
   "execution_count": 226,
   "metadata": {},
   "outputs": [],
   "source": [
    "ss = StandardScaler()\n",
    "input_data = pd.DataFrame(ss.fit_transform(input_data), columns=input_data.columns)"
   ]
  },
  {
   "cell_type": "code",
   "execution_count": 227,
   "metadata": {},
   "outputs": [],
   "source": [
    "#Train and test part\n",
    "from sklearn.model_selection import train_test_split"
   ]
  },
  {
   "cell_type": "code",
   "execution_count": 228,
   "metadata": {},
   "outputs": [],
   "source": [
    "# Split the data into training and testing sets\n",
    "x_train, x_test, y_train, y_test = train_test_split(input_data, output_data, test_size=0.2, random_state=42)"
   ]
  },
  {
   "cell_type": "markdown",
   "metadata": {},
   "source": [
    "## Model train part"
   ]
  },
  {
   "cell_type": "code",
   "execution_count": 229,
   "metadata": {},
   "outputs": [],
   "source": [
    "from sklearn.linear_model import LinearRegression, Lasso, Ridge, ElasticNet\n",
    "from sklearn.tree import DecisionTreeRegressor\n",
    "from sklearn.svm import SVR\n",
    "from sklearn.neighbors import KNeighborsRegressor\n",
    "from sklearn.ensemble import RandomForestRegressor"
   ]
  },
  {
   "cell_type": "code",
   "execution_count": 230,
   "metadata": {},
   "outputs": [
    {
     "data": {
      "text/plain": [
       "(99.86879955875122, 99.8842713491479)"
      ]
     },
     "execution_count": 230,
     "metadata": {},
     "output_type": "execute_result"
    }
   ],
   "source": [
    "lr = LinearRegression()\n",
    "lr.fit(x_train, y_train)\n",
    "lr.score(x_train, y_train)*100, lr.score(x_test, y_test)*100"
   ]
  },
  {
   "cell_type": "code",
   "execution_count": 231,
   "metadata": {},
   "outputs": [],
   "source": [
    "#error find\n",
    "from sklearn.metrics import mean_squared_error, mean_absolute_error"
   ]
  },
  {
   "cell_type": "code",
   "execution_count": 232,
   "metadata": {},
   "outputs": [
    {
     "data": {
      "text/plain": [
       "(99.86875972163813, 99.8840423523701)"
      ]
     },
     "execution_count": 232,
     "metadata": {},
     "output_type": "execute_result"
    }
   ],
   "source": [
    "lr1 = Ridge(alpha=1)\n",
    "lr1.fit(x_train, y_train)\n",
    "lr1.score(x_train, y_train)*100, lr1.score(x_test, y_test)*100"
   ]
  },
  {
   "cell_type": "code",
   "execution_count": 233,
   "metadata": {},
   "outputs": [
    {
     "data": {
      "text/plain": [
       "(46566038.21538382, 3361.36868526881)"
      ]
     },
     "execution_count": 233,
     "metadata": {},
     "output_type": "execute_result"
    }
   ],
   "source": [
    "#Error\n",
    "mean_squared_error(y_test, lr1.predict(x_test)), mean_absolute_error(y_test, lr1.predict(x_test))"
   ]
  },
  {
   "cell_type": "code",
   "execution_count": 234,
   "metadata": {},
   "outputs": [
    {
     "data": {
      "text/plain": [
       "(95.5091272723279, 95.61802878543979)"
      ]
     },
     "execution_count": 234,
     "metadata": {},
     "output_type": "execute_result"
    }
   ],
   "source": [
    "lr2 = ElasticNet(alpha=1)\n",
    "lr2.fit(x_train, y_train)\n",
    "lr2.score(x_train, y_train)*100, lr2.score(x_test, y_test)*100"
   ]
  },
  {
   "cell_type": "code",
   "execution_count": 235,
   "metadata": {},
   "outputs": [
    {
     "data": {
      "text/plain": [
       "(1759703160.6503055, 24277.810450466844)"
      ]
     },
     "execution_count": 235,
     "metadata": {},
     "output_type": "execute_result"
    }
   ],
   "source": [
    "#Error\n",
    "mean_squared_error(y_test, lr2.predict(x_test)), mean_absolute_error(y_test, lr2.predict(x_test))"
   ]
  },
  {
   "cell_type": "code",
   "execution_count": 236,
   "metadata": {},
   "outputs": [
    {
     "data": {
      "text/plain": [
       "(99.99987336049851, 99.73929020629433)"
      ]
     },
     "execution_count": 236,
     "metadata": {},
     "output_type": "execute_result"
    }
   ],
   "source": [
    "dt = DecisionTreeRegressor()\n",
    "dt.fit(x_train, y_train)\n",
    "dt.score(x_train, y_train)*100, dt.score(x_test, y_test)*100"
   ]
  },
  {
   "cell_type": "code",
   "execution_count": 237,
   "metadata": {},
   "outputs": [
    {
     "data": {
      "text/plain": [
       "(104695313.02989252, 4227.074837287201)"
      ]
     },
     "execution_count": 237,
     "metadata": {},
     "output_type": "execute_result"
    }
   ],
   "source": [
    "#Error\n",
    "mean_squared_error(y_test, dt.predict(x_test)), mean_absolute_error(y_test, dt.predict(x_test))"
   ]
  },
  {
   "cell_type": "code",
   "execution_count": 238,
   "metadata": {},
   "outputs": [
    {
     "data": {
      "text/plain": [
       "(99.97805709763551, 99.86643046098)"
      ]
     },
     "execution_count": 238,
     "metadata": {},
     "output_type": "execute_result"
    }
   ],
   "source": [
    "rf = RandomForestRegressor(n_estimators = 100)\n",
    "rf.fit(x_train, y_train)\n",
    "rf.score(x_train, y_train)*100, rf.score(x_test, y_test)*100"
   ]
  },
  {
   "cell_type": "code",
   "execution_count": 239,
   "metadata": {},
   "outputs": [
    {
     "data": {
      "text/plain": [
       "(53638586.03157684, 3394.890166049332)"
      ]
     },
     "execution_count": 239,
     "metadata": {},
     "output_type": "execute_result"
    }
   ],
   "source": [
    "#Error\n",
    "mean_squared_error(y_test, rf.predict(x_test)), mean_absolute_error(y_test, rf.predict(x_test))"
   ]
  },
  {
   "cell_type": "code",
   "execution_count": 240,
   "metadata": {},
   "outputs": [
    {
     "data": {
      "text/plain": [
       "(99.72323319728908, 99.72381570603171)"
      ]
     },
     "execution_count": 240,
     "metadata": {},
     "output_type": "execute_result"
    }
   ],
   "source": [
    "knn =  KNeighborsRegressor(n_neighbors = 10)\n",
    "knn.fit(x_train, y_train)\n",
    "knn.score(x_train, y_train)*100, knn.score(x_test, y_test)*100"
   ]
  },
  {
   "cell_type": "code",
   "execution_count": 241,
   "metadata": {},
   "outputs": [
    {
     "data": {
      "text/plain": [
       "(110909531.62884691, 5027.613572473447)"
      ]
     },
     "execution_count": 241,
     "metadata": {},
     "output_type": "execute_result"
    }
   ],
   "source": [
    "#Error\n",
    "mean_squared_error(y_test, knn.predict(x_test)), mean_absolute_error(y_test, knn.predict(x_test))"
   ]
  },
  {
   "cell_type": "code",
   "execution_count": 242,
   "metadata": {},
   "outputs": [
    {
     "name": "stderr",
     "output_type": "stream",
     "text": [
      "C:\\Users\\pawan\\anaconda3\\Lib\\site-packages\\sklearn\\base.py:439: UserWarning: X does not have valid feature names, but RandomForestRegressor was fitted with feature names\n",
      "  warnings.warn(\n"
     ]
    },
    {
     "data": {
      "text/plain": [
       "array([166380.])"
      ]
     },
     "execution_count": 242,
     "metadata": {},
     "output_type": "execute_result"
    }
   ],
   "source": [
    "#Predict the values\n",
    "rf.predict([[-0.068846, 1.117775, -0.106512, -0.098412]])"
   ]
  },
  {
   "cell_type": "code",
   "execution_count": 243,
   "metadata": {},
   "outputs": [
    {
     "data": {
      "text/html": [
       "<div>\n",
       "<style scoped>\n",
       "    .dataframe tbody tr th:only-of-type {\n",
       "        vertical-align: middle;\n",
       "    }\n",
       "\n",
       "    .dataframe tbody tr th {\n",
       "        vertical-align: top;\n",
       "    }\n",
       "\n",
       "    .dataframe thead th {\n",
       "        text-align: right;\n",
       "    }\n",
       "</style>\n",
       "<table border=\"1\" class=\"dataframe\">\n",
       "  <thead>\n",
       "    <tr style=\"text-align: right;\">\n",
       "      <th></th>\n",
       "      <th>Car Model</th>\n",
       "      <th>Month/Year</th>\n",
       "      <th>Average price</th>\n",
       "      <th>Minimum price</th>\n",
       "    </tr>\n",
       "  </thead>\n",
       "  <tbody>\n",
       "    <tr>\n",
       "      <th>44176</th>\n",
       "      <td>-0.068846</td>\n",
       "      <td>1.117775</td>\n",
       "      <td>-0.106512</td>\n",
       "      <td>-0.098412</td>\n",
       "    </tr>\n",
       "    <tr>\n",
       "      <th>64777</th>\n",
       "      <td>0.688480</td>\n",
       "      <td>-0.858283</td>\n",
       "      <td>-0.549859</td>\n",
       "      <td>-0.548980</td>\n",
       "    </tr>\n",
       "    <tr>\n",
       "      <th>32126</th>\n",
       "      <td>0.886827</td>\n",
       "      <td>0.713851</td>\n",
       "      <td>0.630618</td>\n",
       "      <td>0.656288</td>\n",
       "    </tr>\n",
       "    <tr>\n",
       "      <th>54222</th>\n",
       "      <td>-1.078613</td>\n",
       "      <td>0.701971</td>\n",
       "      <td>-0.544517</td>\n",
       "      <td>-0.548980</td>\n",
       "    </tr>\n",
       "    <tr>\n",
       "      <th>56180</th>\n",
       "      <td>0.670448</td>\n",
       "      <td>-1.670090</td>\n",
       "      <td>-0.699421</td>\n",
       "      <td>-0.695415</td>\n",
       "    </tr>\n",
       "    <tr>\n",
       "      <th>...</th>\n",
       "      <td>...</td>\n",
       "      <td>...</td>\n",
       "      <td>...</td>\n",
       "      <td>...</td>\n",
       "    </tr>\n",
       "    <tr>\n",
       "      <th>49721</th>\n",
       "      <td>0.021312</td>\n",
       "      <td>1.094015</td>\n",
       "      <td>-0.368247</td>\n",
       "      <td>-0.385649</td>\n",
       "    </tr>\n",
       "    <tr>\n",
       "      <th>68761</th>\n",
       "      <td>1.409742</td>\n",
       "      <td>-1.289927</td>\n",
       "      <td>-0.774203</td>\n",
       "      <td>-0.768632</td>\n",
       "    </tr>\n",
       "    <tr>\n",
       "      <th>3601</th>\n",
       "      <td>-0.204082</td>\n",
       "      <td>-0.486040</td>\n",
       "      <td>1.576068</td>\n",
       "      <td>1.585584</td>\n",
       "    </tr>\n",
       "    <tr>\n",
       "      <th>15613</th>\n",
       "      <td>1.644153</td>\n",
       "      <td>0.713851</td>\n",
       "      <td>-0.063780</td>\n",
       "      <td>-0.064620</td>\n",
       "    </tr>\n",
       "    <tr>\n",
       "      <th>2331</th>\n",
       "      <td>-0.204082</td>\n",
       "      <td>0.286167</td>\n",
       "      <td>1.410481</td>\n",
       "      <td>1.484206</td>\n",
       "    </tr>\n",
       "  </tbody>\n",
       "</table>\n",
       "<p>15723 rows × 4 columns</p>\n",
       "</div>"
      ],
      "text/plain": [
       "       Car Model  Month/Year  Average price  Minimum price\n",
       "44176  -0.068846    1.117775      -0.106512      -0.098412\n",
       "64777   0.688480   -0.858283      -0.549859      -0.548980\n",
       "32126   0.886827    0.713851       0.630618       0.656288\n",
       "54222  -1.078613    0.701971      -0.544517      -0.548980\n",
       "56180   0.670448   -1.670090      -0.699421      -0.695415\n",
       "...          ...         ...            ...            ...\n",
       "49721   0.021312    1.094015      -0.368247      -0.385649\n",
       "68761   1.409742   -1.289927      -0.774203      -0.768632\n",
       "3601   -0.204082   -0.486040       1.576068       1.585584\n",
       "15613   1.644153    0.713851      -0.063780      -0.064620\n",
       "2331   -0.204082    0.286167       1.410481       1.484206\n",
       "\n",
       "[15723 rows x 4 columns]"
      ]
     },
     "execution_count": 243,
     "metadata": {},
     "output_type": "execute_result"
    }
   ],
   "source": [
    "x_test"
   ]
  },
  {
   "cell_type": "code",
   "execution_count": 244,
   "metadata": {},
   "outputs": [
    {
     "data": {
      "text/plain": [
       "44486    166000.0\n",
       "65205     79000.0\n",
       "32322    304000.0\n",
       "54606     84000.0\n",
       "56572     52000.0\n",
       "           ...   \n",
       "50081    119000.0\n",
       "69213     37000.0\n",
       "3665     500000.0\n",
       "15723    178000.0\n",
       "2365     456000.0\n",
       "Name: Maximum price, Length: 15723, dtype: float64"
      ]
     },
     "execution_count": 244,
     "metadata": {},
     "output_type": "execute_result"
    }
   ],
   "source": [
    "y_test"
   ]
  },
  {
   "cell_type": "code",
   "execution_count": 245,
   "metadata": {},
   "outputs": [
    {
     "data": {
      "text/html": [
       "<div>\n",
       "<style scoped>\n",
       "    .dataframe tbody tr th:only-of-type {\n",
       "        vertical-align: middle;\n",
       "    }\n",
       "\n",
       "    .dataframe tbody tr th {\n",
       "        vertical-align: top;\n",
       "    }\n",
       "\n",
       "    .dataframe thead th {\n",
       "        text-align: right;\n",
       "    }\n",
       "</style>\n",
       "<table border=\"1\" class=\"dataframe\">\n",
       "  <thead>\n",
       "    <tr style=\"text-align: right;\">\n",
       "      <th></th>\n",
       "      <th>Car Model</th>\n",
       "      <th>Month/Year</th>\n",
       "      <th>Average price</th>\n",
       "      <th>Minimum price</th>\n",
       "      <th>Maximum price</th>\n",
       "      <th>Model Year</th>\n",
       "    </tr>\n",
       "  </thead>\n",
       "  <tbody>\n",
       "    <tr>\n",
       "      <th>0</th>\n",
       "      <td>Skoda Octavia A8</td>\n",
       "      <td>2023-03-01</td>\n",
       "      <td>967000.0</td>\n",
       "      <td>926000.0</td>\n",
       "      <td>1017000.0</td>\n",
       "      <td>2022.0</td>\n",
       "    </tr>\n",
       "    <tr>\n",
       "      <th>1</th>\n",
       "      <td>Skoda Octavia A8</td>\n",
       "      <td>2023-02-01</td>\n",
       "      <td>979000.0</td>\n",
       "      <td>931000.0</td>\n",
       "      <td>1045000.0</td>\n",
       "      <td>2022.0</td>\n",
       "    </tr>\n",
       "    <tr>\n",
       "      <th>2</th>\n",
       "      <td>Skoda Octavia A8</td>\n",
       "      <td>2023-01-01</td>\n",
       "      <td>917000.0</td>\n",
       "      <td>893000.0</td>\n",
       "      <td>950000.0</td>\n",
       "      <td>2022.0</td>\n",
       "    </tr>\n",
       "    <tr>\n",
       "      <th>3</th>\n",
       "      <td>Skoda Octavia A8</td>\n",
       "      <td>2022-12-01</td>\n",
       "      <td>881000.0</td>\n",
       "      <td>793000.0</td>\n",
       "      <td>950000.0</td>\n",
       "      <td>2022.0</td>\n",
       "    </tr>\n",
       "    <tr>\n",
       "      <th>4</th>\n",
       "      <td>Skoda Octavia A8</td>\n",
       "      <td>2022-11-01</td>\n",
       "      <td>868000.0</td>\n",
       "      <td>789000.0</td>\n",
       "      <td>950000.0</td>\n",
       "      <td>2022.0</td>\n",
       "    </tr>\n",
       "    <tr>\n",
       "      <th>...</th>\n",
       "      <td>...</td>\n",
       "      <td>...</td>\n",
       "      <td>...</td>\n",
       "      <td>...</td>\n",
       "      <td>...</td>\n",
       "      <td>...</td>\n",
       "    </tr>\n",
       "    <tr>\n",
       "      <th>15828</th>\n",
       "      <td>Renault Sandero Step Way</td>\n",
       "      <td>2018-12-01</td>\n",
       "      <td>219000.0</td>\n",
       "      <td>209000.0</td>\n",
       "      <td>223000.0</td>\n",
       "      <td>2017.0</td>\n",
       "    </tr>\n",
       "    <tr>\n",
       "      <th>15829</th>\n",
       "      <td>Renault Sandero Step Way</td>\n",
       "      <td>2018-11-01</td>\n",
       "      <td>215000.0</td>\n",
       "      <td>209000.0</td>\n",
       "      <td>221000.0</td>\n",
       "      <td>2017.0</td>\n",
       "    </tr>\n",
       "    <tr>\n",
       "      <th>15830</th>\n",
       "      <td>Renault Sandero Step Way</td>\n",
       "      <td>2018-10-01</td>\n",
       "      <td>223000.0</td>\n",
       "      <td>209000.0</td>\n",
       "      <td>233000.0</td>\n",
       "      <td>2017.0</td>\n",
       "    </tr>\n",
       "    <tr>\n",
       "      <th>15831</th>\n",
       "      <td>Renault Sandero Step Way</td>\n",
       "      <td>2018-09-01</td>\n",
       "      <td>221000.0</td>\n",
       "      <td>209000.0</td>\n",
       "      <td>229000.0</td>\n",
       "      <td>2017.0</td>\n",
       "    </tr>\n",
       "    <tr>\n",
       "      <th>15832</th>\n",
       "      <td>Renault Sandero Step Way</td>\n",
       "      <td>2018-08-01</td>\n",
       "      <td>222000.0</td>\n",
       "      <td>209000.0</td>\n",
       "      <td>231000.0</td>\n",
       "      <td>2017.0</td>\n",
       "    </tr>\n",
       "  </tbody>\n",
       "</table>\n",
       "<p>15723 rows × 6 columns</p>\n",
       "</div>"
      ],
      "text/plain": [
       "                      Car Model Month/Year  Average price  Minimum price  \\\n",
       "0              Skoda Octavia A8 2023-03-01       967000.0       926000.0   \n",
       "1              Skoda Octavia A8 2023-02-01       979000.0       931000.0   \n",
       "2              Skoda Octavia A8 2023-01-01       917000.0       893000.0   \n",
       "3              Skoda Octavia A8 2022-12-01       881000.0       793000.0   \n",
       "4              Skoda Octavia A8 2022-11-01       868000.0       789000.0   \n",
       "...                         ...        ...            ...            ...   \n",
       "15828  Renault Sandero Step Way 2018-12-01       219000.0       209000.0   \n",
       "15829  Renault Sandero Step Way 2018-11-01       215000.0       209000.0   \n",
       "15830  Renault Sandero Step Way 2018-10-01       223000.0       209000.0   \n",
       "15831  Renault Sandero Step Way 2018-09-01       221000.0       209000.0   \n",
       "15832  Renault Sandero Step Way 2018-08-01       222000.0       209000.0   \n",
       "\n",
       "       Maximum price  Model Year  \n",
       "0          1017000.0      2022.0  \n",
       "1          1045000.0      2022.0  \n",
       "2           950000.0      2022.0  \n",
       "3           950000.0      2022.0  \n",
       "4           950000.0      2022.0  \n",
       "...              ...         ...  \n",
       "15828       223000.0      2017.0  \n",
       "15829       221000.0      2017.0  \n",
       "15830       233000.0      2017.0  \n",
       "15831       229000.0      2017.0  \n",
       "15832       231000.0      2017.0  \n",
       "\n",
       "[15723 rows x 6 columns]"
      ]
     },
     "execution_count": 245,
     "metadata": {},
     "output_type": "execute_result"
    }
   ],
   "source": [
    "subset_df = orginal_df.iloc[:15723, :]\n",
    "subset_df"
   ]
  },
  {
   "cell_type": "code",
   "execution_count": 246,
   "metadata": {},
   "outputs": [
    {
     "data": {
      "text/html": [
       "<div>\n",
       "<style scoped>\n",
       "    .dataframe tbody tr th:only-of-type {\n",
       "        vertical-align: middle;\n",
       "    }\n",
       "\n",
       "    .dataframe tbody tr th {\n",
       "        vertical-align: top;\n",
       "    }\n",
       "\n",
       "    .dataframe thead th {\n",
       "        text-align: right;\n",
       "    }\n",
       "</style>\n",
       "<table border=\"1\" class=\"dataframe\">\n",
       "  <thead>\n",
       "    <tr style=\"text-align: right;\">\n",
       "      <th></th>\n",
       "      <th>Car Model</th>\n",
       "      <th>Month/Year</th>\n",
       "      <th>Average price</th>\n",
       "      <th>Minimum price</th>\n",
       "      <th>Maximum price</th>\n",
       "      <th>Model Year</th>\n",
       "      <th>Prediction Price</th>\n",
       "    </tr>\n",
       "  </thead>\n",
       "  <tbody>\n",
       "    <tr>\n",
       "      <th>0</th>\n",
       "      <td>Skoda Octavia A8</td>\n",
       "      <td>2023-03-01</td>\n",
       "      <td>967000.0</td>\n",
       "      <td>926000.0</td>\n",
       "      <td>1017000.0</td>\n",
       "      <td>2022.0</td>\n",
       "      <td>166250.0</td>\n",
       "    </tr>\n",
       "    <tr>\n",
       "      <th>1</th>\n",
       "      <td>Skoda Octavia A8</td>\n",
       "      <td>2023-02-01</td>\n",
       "      <td>979000.0</td>\n",
       "      <td>931000.0</td>\n",
       "      <td>1045000.0</td>\n",
       "      <td>2022.0</td>\n",
       "      <td>81882.5</td>\n",
       "    </tr>\n",
       "    <tr>\n",
       "      <th>2</th>\n",
       "      <td>Skoda Octavia A8</td>\n",
       "      <td>2023-01-01</td>\n",
       "      <td>917000.0</td>\n",
       "      <td>893000.0</td>\n",
       "      <td>950000.0</td>\n",
       "      <td>2022.0</td>\n",
       "      <td>307020.0</td>\n",
       "    </tr>\n",
       "    <tr>\n",
       "      <th>3</th>\n",
       "      <td>Skoda Octavia A8</td>\n",
       "      <td>2022-12-01</td>\n",
       "      <td>881000.0</td>\n",
       "      <td>793000.0</td>\n",
       "      <td>950000.0</td>\n",
       "      <td>2022.0</td>\n",
       "      <td>83780.0</td>\n",
       "    </tr>\n",
       "    <tr>\n",
       "      <th>4</th>\n",
       "      <td>Skoda Octavia A8</td>\n",
       "      <td>2022-11-01</td>\n",
       "      <td>868000.0</td>\n",
       "      <td>789000.0</td>\n",
       "      <td>950000.0</td>\n",
       "      <td>2022.0</td>\n",
       "      <td>50723.0</td>\n",
       "    </tr>\n",
       "    <tr>\n",
       "      <th>...</th>\n",
       "      <td>...</td>\n",
       "      <td>...</td>\n",
       "      <td>...</td>\n",
       "      <td>...</td>\n",
       "      <td>...</td>\n",
       "      <td>...</td>\n",
       "      <td>...</td>\n",
       "    </tr>\n",
       "    <tr>\n",
       "      <th>15828</th>\n",
       "      <td>Renault Sandero Step Way</td>\n",
       "      <td>2018-12-01</td>\n",
       "      <td>219000.0</td>\n",
       "      <td>209000.0</td>\n",
       "      <td>223000.0</td>\n",
       "      <td>2017.0</td>\n",
       "      <td>118380.0</td>\n",
       "    </tr>\n",
       "    <tr>\n",
       "      <th>15829</th>\n",
       "      <td>Renault Sandero Step Way</td>\n",
       "      <td>2018-11-01</td>\n",
       "      <td>215000.0</td>\n",
       "      <td>209000.0</td>\n",
       "      <td>221000.0</td>\n",
       "      <td>2017.0</td>\n",
       "      <td>35740.0</td>\n",
       "    </tr>\n",
       "    <tr>\n",
       "      <th>15830</th>\n",
       "      <td>Renault Sandero Step Way</td>\n",
       "      <td>2018-10-01</td>\n",
       "      <td>223000.0</td>\n",
       "      <td>209000.0</td>\n",
       "      <td>233000.0</td>\n",
       "      <td>2017.0</td>\n",
       "      <td>501350.0</td>\n",
       "    </tr>\n",
       "    <tr>\n",
       "      <th>15831</th>\n",
       "      <td>Renault Sandero Step Way</td>\n",
       "      <td>2018-09-01</td>\n",
       "      <td>221000.0</td>\n",
       "      <td>209000.0</td>\n",
       "      <td>229000.0</td>\n",
       "      <td>2017.0</td>\n",
       "      <td>176440.0</td>\n",
       "    </tr>\n",
       "    <tr>\n",
       "      <th>15832</th>\n",
       "      <td>Renault Sandero Step Way</td>\n",
       "      <td>2018-08-01</td>\n",
       "      <td>222000.0</td>\n",
       "      <td>209000.0</td>\n",
       "      <td>231000.0</td>\n",
       "      <td>2017.0</td>\n",
       "      <td>463350.0</td>\n",
       "    </tr>\n",
       "  </tbody>\n",
       "</table>\n",
       "<p>15723 rows × 7 columns</p>\n",
       "</div>"
      ],
      "text/plain": [
       "                      Car Model Month/Year  Average price  Minimum price  \\\n",
       "0              Skoda Octavia A8 2023-03-01       967000.0       926000.0   \n",
       "1              Skoda Octavia A8 2023-02-01       979000.0       931000.0   \n",
       "2              Skoda Octavia A8 2023-01-01       917000.0       893000.0   \n",
       "3              Skoda Octavia A8 2022-12-01       881000.0       793000.0   \n",
       "4              Skoda Octavia A8 2022-11-01       868000.0       789000.0   \n",
       "...                         ...        ...            ...            ...   \n",
       "15828  Renault Sandero Step Way 2018-12-01       219000.0       209000.0   \n",
       "15829  Renault Sandero Step Way 2018-11-01       215000.0       209000.0   \n",
       "15830  Renault Sandero Step Way 2018-10-01       223000.0       209000.0   \n",
       "15831  Renault Sandero Step Way 2018-09-01       221000.0       209000.0   \n",
       "15832  Renault Sandero Step Way 2018-08-01       222000.0       209000.0   \n",
       "\n",
       "       Maximum price  Model Year  Prediction Price  \n",
       "0          1017000.0      2022.0          166250.0  \n",
       "1          1045000.0      2022.0           81882.5  \n",
       "2           950000.0      2022.0          307020.0  \n",
       "3           950000.0      2022.0           83780.0  \n",
       "4           950000.0      2022.0           50723.0  \n",
       "...              ...         ...               ...  \n",
       "15828       223000.0      2017.0          118380.0  \n",
       "15829       221000.0      2017.0           35740.0  \n",
       "15830       233000.0      2017.0          501350.0  \n",
       "15831       229000.0      2017.0          176440.0  \n",
       "15832       231000.0      2017.0          463350.0  \n",
       "\n",
       "[15723 rows x 7 columns]"
      ]
     },
     "execution_count": 246,
     "metadata": {},
     "output_type": "execute_result"
    }
   ],
   "source": [
    "subset_df[\"Prediction Price\"] = rf.predict(x_test)\n",
    "subset_df"
   ]
  },
  {
   "cell_type": "code",
   "execution_count": 247,
   "metadata": {},
   "outputs": [],
   "source": [
    "pd.options.mode.copy_on_write = True\n",
    "subset_df[\"Prediction Price\"] = subset_df[\"Prediction Price\"].apply(lambda x: f\"{x:.1f}\")"
   ]
  },
  {
   "cell_type": "code",
   "execution_count": 250,
   "metadata": {},
   "outputs": [
    {
     "data": {
      "text/plain": [
       "0"
      ]
     },
     "execution_count": 250,
     "metadata": {},
     "output_type": "execute_result"
    }
   ],
   "source": [
    "subset_df[\"Prediction Price\"].isnull().sum()"
   ]
  },
  {
   "cell_type": "code",
   "execution_count": 248,
   "metadata": {},
   "outputs": [],
   "source": [
    "subset_df.to_csv(\"car_prices_prediction.csv\", index = False)"
   ]
  },
  {
   "cell_type": "code",
   "execution_count": null,
   "metadata": {},
   "outputs": [],
   "source": []
  }
 ],
 "metadata": {
  "kaggle": {
   "accelerator": "none",
   "dataSources": [
    {
     "datasetId": 3074627,
     "sourceId": 5285117,
     "sourceType": "datasetVersion"
    }
   ],
   "dockerImageVersionId": 30746,
   "isGpuEnabled": false,
   "isInternetEnabled": false,
   "language": "python",
   "sourceType": "notebook"
  },
  "kernelspec": {
   "display_name": "Python 3 (ipykernel)",
   "language": "python",
   "name": "python3"
  },
  "language_info": {
   "codemirror_mode": {
    "name": "ipython",
    "version": 3
   },
   "file_extension": ".py",
   "mimetype": "text/x-python",
   "name": "python",
   "nbconvert_exporter": "python",
   "pygments_lexer": "ipython3",
   "version": "3.11.7"
  }
 },
 "nbformat": 4,
 "nbformat_minor": 4
}
